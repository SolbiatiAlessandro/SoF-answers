{
 "cells": [
  {
   "cell_type": "code",
   "execution_count": 1,
   "metadata": {},
   "outputs": [],
   "source": [
    "import utils"
   ]
  },
  {
   "cell_type": "code",
   "execution_count": 2,
   "metadata": {},
   "outputs": [
    {
     "data": {
      "text/plain": [
       "<function utils.SOF_to_df(df_input)>"
      ]
     },
     "execution_count": 2,
     "metadata": {},
     "output_type": "execute_result"
    }
   ],
   "source": [
    "utils.SOF_to_df"
   ]
  },
  {
   "cell_type": "code",
   "execution_count": 13,
   "metadata": {},
   "outputs": [],
   "source": [
    "inp = \"\"\"Soft Hand_ID Table_Size Blinds Day No_of_players Seat_1 Seat_2 Seat_3 Seat_4 Seat_5 Seat_6\n",
    "PokerStars  172109655423    6-max   €0.50/€1.00 2017/06/22  4   KO  fasolakia14 Johnii141   bogec   0   0\n",
    "PokerStars  143736274858    6-max   £0.25/£0.50 2015/11/13  6   Racushniak  koluha1000  Bantina DMIGNN  Johnii141   vor4mohs\"\"\""
   ]
  },
  {
   "cell_type": "code",
   "execution_count": 14,
   "metadata": {},
   "outputs": [],
   "source": [
    "df = utils.SOF_to_df(inp)"
   ]
  },
  {
   "cell_type": "code",
   "execution_count": 16,
   "metadata": {
    "scrolled": true
   },
   "outputs": [
    {
     "data": {
      "text/html": [
       "<div>\n",
       "<style scoped>\n",
       "    .dataframe tbody tr th:only-of-type {\n",
       "        vertical-align: middle;\n",
       "    }\n",
       "\n",
       "    .dataframe tbody tr th {\n",
       "        vertical-align: top;\n",
       "    }\n",
       "\n",
       "    .dataframe thead th {\n",
       "        text-align: right;\n",
       "    }\n",
       "</style>\n",
       "<table border=\"1\" class=\"dataframe\">\n",
       "  <thead>\n",
       "    <tr style=\"text-align: right;\">\n",
       "      <th></th>\n",
       "      <th>Soft</th>\n",
       "      <th>Hand_ID</th>\n",
       "      <th>Table_Size</th>\n",
       "      <th>Blinds</th>\n",
       "      <th>Day</th>\n",
       "      <th>No_of_players</th>\n",
       "      <th>Seat_1</th>\n",
       "      <th>Seat_2</th>\n",
       "      <th>Seat_3</th>\n",
       "      <th>Seat_4</th>\n",
       "      <th>Seat_5</th>\n",
       "      <th>Seat_6</th>\n",
       "    </tr>\n",
       "  </thead>\n",
       "  <tbody>\n",
       "    <tr>\n",
       "      <th>1</th>\n",
       "      <td>PokerStars</td>\n",
       "      <td>172109655423</td>\n",
       "      <td>6-max</td>\n",
       "      <td>€0.50/€1.00</td>\n",
       "      <td>2017/06/22</td>\n",
       "      <td>4</td>\n",
       "      <td>KO</td>\n",
       "      <td>fasolakia14</td>\n",
       "      <td>Johnii141</td>\n",
       "      <td>bogec</td>\n",
       "      <td>0</td>\n",
       "      <td>0</td>\n",
       "    </tr>\n",
       "    <tr>\n",
       "      <th>2</th>\n",
       "      <td>PokerStars</td>\n",
       "      <td>143736274858</td>\n",
       "      <td>6-max</td>\n",
       "      <td>£0.25/£0.50</td>\n",
       "      <td>2015/11/13</td>\n",
       "      <td>6</td>\n",
       "      <td>Racushniak</td>\n",
       "      <td>koluha1000</td>\n",
       "      <td>Bantina</td>\n",
       "      <td>DMIGNN</td>\n",
       "      <td>Johnii141</td>\n",
       "      <td>vor4mohs</td>\n",
       "    </tr>\n",
       "  </tbody>\n",
       "</table>\n",
       "</div>"
      ],
      "text/plain": [
       "         Soft       Hand_ID Table_Size       Blinds         Day No_of_players  \\\n",
       "1  PokerStars  172109655423      6-max  €0.50/€1.00  2017/06/22             4   \n",
       "2  PokerStars  143736274858      6-max  £0.25/£0.50  2015/11/13             6   \n",
       "\n",
       "       Seat_1       Seat_2     Seat_3  Seat_4     Seat_5    Seat_6  \n",
       "1          KO  fasolakia14  Johnii141   bogec          0         0  \n",
       "2  Racushniak   koluha1000    Bantina  DMIGNN  Johnii141  vor4mohs  "
      ]
     },
     "execution_count": 16,
     "metadata": {},
     "output_type": "execute_result"
    }
   ],
   "source": [
    "df"
   ]
  },
  {
   "cell_type": "code",
   "execution_count": 23,
   "metadata": {},
   "outputs": [],
   "source": [
    "df['Seats'] = df['Seat_1'] + \" \" + df['Seat_2'] + \" \" + df['Seat_3'] + \" \" + df['Seat_4'] + \" \" + df['Seat_5'] + \" \" + df['Seat_6']"
   ]
  },
  {
   "cell_type": "code",
   "execution_count": 26,
   "metadata": {
    "scrolled": false
   },
   "outputs": [
    {
     "data": {
      "text/html": [
       "<div>\n",
       "<style scoped>\n",
       "    .dataframe tbody tr th:only-of-type {\n",
       "        vertical-align: middle;\n",
       "    }\n",
       "\n",
       "    .dataframe tbody tr th {\n",
       "        vertical-align: top;\n",
       "    }\n",
       "\n",
       "    .dataframe thead th {\n",
       "        text-align: right;\n",
       "    }\n",
       "</style>\n",
       "<table border=\"1\" class=\"dataframe\">\n",
       "  <thead>\n",
       "    <tr style=\"text-align: right;\">\n",
       "      <th></th>\n",
       "      <th>Soft</th>\n",
       "      <th>Hand_ID</th>\n",
       "      <th>Table_Size</th>\n",
       "      <th>Blinds</th>\n",
       "      <th>Day</th>\n",
       "      <th>No_of_players</th>\n",
       "      <th>Seats</th>\n",
       "    </tr>\n",
       "  </thead>\n",
       "  <tbody>\n",
       "    <tr>\n",
       "      <th>1</th>\n",
       "      <td>PokerStars</td>\n",
       "      <td>172109655423</td>\n",
       "      <td>6-max</td>\n",
       "      <td>€0.50/€1.00</td>\n",
       "      <td>2017/06/22</td>\n",
       "      <td>4</td>\n",
       "      <td>KO fasolakia14 Johnii141 bogec 0 0</td>\n",
       "    </tr>\n",
       "    <tr>\n",
       "      <th>2</th>\n",
       "      <td>PokerStars</td>\n",
       "      <td>143736274858</td>\n",
       "      <td>6-max</td>\n",
       "      <td>£0.25/£0.50</td>\n",
       "      <td>2015/11/13</td>\n",
       "      <td>6</td>\n",
       "      <td>Racushniak koluha1000 Bantina DMIGNN Johnii141...</td>\n",
       "    </tr>\n",
       "  </tbody>\n",
       "</table>\n",
       "</div>"
      ],
      "text/plain": [
       "         Soft       Hand_ID Table_Size       Blinds         Day No_of_players  \\\n",
       "1  PokerStars  172109655423      6-max  €0.50/€1.00  2017/06/22             4   \n",
       "2  PokerStars  143736274858      6-max  £0.25/£0.50  2015/11/13             6   \n",
       "\n",
       "                                               Seats  \n",
       "1                 KO fasolakia14 Johnii141 bogec 0 0  \n",
       "2  Racushniak koluha1000 Bantina DMIGNN Johnii141...  "
      ]
     },
     "execution_count": 26,
     "metadata": {},
     "output_type": "execute_result"
    }
   ],
   "source": [
    "df.drop(['Seat_1', 'Seat_2', 'Seat_3', 'Seat_4', 'Seat_5', 'Seat_6'], axis=1)"
   ]
  },
  {
   "cell_type": "code",
   "execution_count": 27,
   "metadata": {},
   "outputs": [],
   "source": [
    "%qtconsole"
   ]
  },
  {
   "cell_type": "code",
   "execution_count": null,
   "metadata": {},
   "outputs": [],
   "source": []
  }
 ],
 "metadata": {
  "kernelspec": {
   "display_name": "Python 3",
   "language": "python",
   "name": "python3"
  },
  "language_info": {
   "codemirror_mode": {
    "name": "ipython",
    "version": 3
   },
   "file_extension": ".py",
   "mimetype": "text/x-python",
   "name": "python",
   "nbconvert_exporter": "python",
   "pygments_lexer": "ipython3",
   "version": "3.6.5"
  }
 },
 "nbformat": 4,
 "nbformat_minor": 2
}
