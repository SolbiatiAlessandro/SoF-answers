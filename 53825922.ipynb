{
 "cells": [
  {
   "cell_type": "code",
   "execution_count": 4,
   "metadata": {},
   "outputs": [],
   "source": [
    "df_input = \"\"\"\n",
    "DocID       0   1    2   3   4    5\n",
    "\n",
    "CAT123     CAT  1   12 123  123  123\n",
    "DOG14567   DOG  1   14 145 1456 14567\n",
    "BIRD32     BIRD 3   32  32   32   32\n",
    "\"\"\""
   ]
  },
  {
   "cell_type": "code",
   "execution_count": 69,
   "metadata": {},
   "outputs": [],
   "source": [
    "def SOF_to_df(df_input):\n",
    "    \"\"\"\n",
    "    Args:\n",
    "        df_input (string): output of print(pd.DataFrame)\n",
    "    Return:\n",
    "        df (pd.DataFrame)\n",
    "    \"\"\"\n",
    "    import pandas as pd\n",
    "\n",
    "    raw = [s.split(' ') for s in df_input.split('\\n')]\n",
    "    cleaned = []\n",
    "    for section in raw:\n",
    "        if section != ['']:\n",
    "            cleaned.append([num for num in section if num != ''])\n",
    "\n",
    "    df = pd.DataFrame(cleaned)\n",
    "    df.columns = df.loc[0].tolist()\n",
    "    return df.drop(0, axis=0)"
   ]
  },
  {
   "cell_type": "code",
   "execution_count": 70,
   "metadata": {},
   "outputs": [
    {
     "data": {
      "text/html": [
       "<div>\n",
       "<style scoped>\n",
       "    .dataframe tbody tr th:only-of-type {\n",
       "        vertical-align: middle;\n",
       "    }\n",
       "\n",
       "    .dataframe tbody tr th {\n",
       "        vertical-align: top;\n",
       "    }\n",
       "\n",
       "    .dataframe thead th {\n",
       "        text-align: right;\n",
       "    }\n",
       "</style>\n",
       "<table border=\"1\" class=\"dataframe\">\n",
       "  <thead>\n",
       "    <tr style=\"text-align: right;\">\n",
       "      <th></th>\n",
       "      <th>DocID</th>\n",
       "      <th>0</th>\n",
       "      <th>1</th>\n",
       "      <th>2</th>\n",
       "      <th>3</th>\n",
       "      <th>4</th>\n",
       "      <th>5</th>\n",
       "    </tr>\n",
       "  </thead>\n",
       "  <tbody>\n",
       "    <tr>\n",
       "      <th>1</th>\n",
       "      <td>CAT123</td>\n",
       "      <td>CAT</td>\n",
       "      <td>1</td>\n",
       "      <td>12</td>\n",
       "      <td>123</td>\n",
       "      <td>123</td>\n",
       "      <td>123</td>\n",
       "    </tr>\n",
       "    <tr>\n",
       "      <th>2</th>\n",
       "      <td>DOG14567</td>\n",
       "      <td>DOG</td>\n",
       "      <td>1</td>\n",
       "      <td>14</td>\n",
       "      <td>145</td>\n",
       "      <td>1456</td>\n",
       "      <td>14567</td>\n",
       "    </tr>\n",
       "    <tr>\n",
       "      <th>3</th>\n",
       "      <td>BIRD32</td>\n",
       "      <td>BIRD</td>\n",
       "      <td>3</td>\n",
       "      <td>32</td>\n",
       "      <td>32</td>\n",
       "      <td>32</td>\n",
       "      <td>32</td>\n",
       "    </tr>\n",
       "  </tbody>\n",
       "</table>\n",
       "</div>"
      ],
      "text/plain": [
       "      DocID     0  1   2    3     4      5\n",
       "1    CAT123   CAT  1  12  123   123    123\n",
       "2  DOG14567   DOG  1  14  145  1456  14567\n",
       "3    BIRD32  BIRD  3  32   32    32     32"
      ]
     },
     "execution_count": 70,
     "metadata": {},
     "output_type": "execute_result"
    }
   ],
   "source": [
    "SOF_to_df(df_input)"
   ]
  },
  {
   "cell_type": "code",
   "execution_count": null,
   "metadata": {},
   "outputs": [],
   "source": []
  }
 ],
 "metadata": {
  "kernelspec": {
   "display_name": "Python 2",
   "language": "python",
   "name": "python2"
  },
  "language_info": {
   "codemirror_mode": {
    "name": "ipython",
    "version": 2
   },
   "file_extension": ".py",
   "mimetype": "text/x-python",
   "name": "python",
   "nbconvert_exporter": "python",
   "pygments_lexer": "ipython2",
   "version": "2.7.10"
  }
 },
 "nbformat": 4,
 "nbformat_minor": 2
}
