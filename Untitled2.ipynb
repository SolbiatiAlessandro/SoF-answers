{
 "cells": [
  {
   "cell_type": "code",
   "execution_count": 1,
   "metadata": {},
   "outputs": [],
   "source": [
    "text = \"Wednesday/PROPN evening/NOUN to/PART reject/VERB a/DET no/DET -/PUNCT deal/NOUN Brexit/PROPN under/ADP any/DET circumstances/NOUN ./PUNCT No/DET date/NOUN has/VERB yet/ADV ./PUNCT Saturday/NOUN\""
   ]
  },
  {
   "cell_type": "code",
   "execution_count": 5,
   "metadata": {},
   "outputs": [
    {
     "ename": "IndexError",
     "evalue": "list index out of range",
     "output_type": "error",
     "traceback": [
      "\u001b[0;31m---------------------------------------------------------------------------\u001b[0m",
      "\u001b[0;31mIndexError\u001b[0m                                Traceback (most recent call last)",
      "\u001b[0;32m<ipython-input-5-4ccc7349adfe>\u001b[0m in \u001b[0;36m<module>\u001b[0;34m\u001b[0m\n\u001b[1;32m      2\u001b[0m \u001b[0;32mfor\u001b[0m \u001b[0mw\u001b[0m \u001b[0;32min\u001b[0m \u001b[0mtext\u001b[0m\u001b[0;34m:\u001b[0m\u001b[0;34m\u001b[0m\u001b[0m\n\u001b[1;32m      3\u001b[0m     \u001b[0mwords\u001b[0m \u001b[0;34m=\u001b[0m \u001b[0mw\u001b[0m\u001b[0;34m.\u001b[0m\u001b[0msplit\u001b[0m\u001b[0;34m(\u001b[0m\u001b[0;34m'/'\u001b[0m\u001b[0;34m)\u001b[0m\u001b[0;34m\u001b[0m\u001b[0m\n\u001b[0;32m----> 4\u001b[0;31m     \u001b[0mdictionary\u001b[0m\u001b[0;34m[\u001b[0m\u001b[0mwords\u001b[0m\u001b[0;34m[\u001b[0m\u001b[0;36m0\u001b[0m\u001b[0;34m]\u001b[0m\u001b[0;34m]\u001b[0m \u001b[0;34m=\u001b[0m \u001b[0mwords\u001b[0m\u001b[0;34m[\u001b[0m\u001b[0;36m1\u001b[0m\u001b[0;34m]\u001b[0m\u001b[0;34m\u001b[0m\u001b[0m\n\u001b[0m\u001b[1;32m      5\u001b[0m \u001b[0;34m\u001b[0m\u001b[0m\n\u001b[1;32m      6\u001b[0m \u001b[0mdictlist\u001b[0m \u001b[0;34m=\u001b[0m \u001b[0;34m[\u001b[0m\u001b[0;34m]\u001b[0m\u001b[0;34m\u001b[0m\u001b[0m\n",
      "\u001b[0;31mIndexError\u001b[0m: list index out of range"
     ]
    }
   ],
   "source": [
    "dictionary = {}\n",
    "for w in text:\n",
    "    words = w.split('/')\n",
    "    dictionary[words[0]] = words[1]\n",
    "    \n",
    "dictlist = []\n",
    "for key, value in dictionary.items():\n",
    "    if value == \"PUNCT\": #HERE is the problem. I want something like this: If the value is PUNCT and NOUN is the next value then append it to the list\n",
    "        temp = [key, value]\n",
    "        temp.append(temp)"
   ]
  },
  {
   "cell_type": "code",
   "execution_count": 6,
   "metadata": {},
   "outputs": [],
   "source": [
    "from collections import Counter"
   ]
  },
  {
   "cell_type": "code",
   "execution_count": 16,
   "metadata": {},
   "outputs": [],
   "source": [
    "word_tag_list = [word.split('/') for word in text.split(' ')]"
   ]
  },
  {
   "cell_type": "code",
   "execution_count": 17,
   "metadata": {},
   "outputs": [
    {
     "data": {
      "text/plain": [
       "[['Wednesday', 'PROPN'],\n",
       " ['evening', 'NOUN'],\n",
       " ['to', 'PART'],\n",
       " ['reject', 'VERB'],\n",
       " ['a', 'DET'],\n",
       " ['no', 'DET'],\n",
       " ['-', 'PUNCT'],\n",
       " ['deal', 'NOUN'],\n",
       " ['Brexit', 'PROPN'],\n",
       " ['under', 'ADP'],\n",
       " ['any', 'DET'],\n",
       " ['circumstances', 'NOUN'],\n",
       " ['.', 'PUNCT'],\n",
       " ['No', 'DET'],\n",
       " ['date', 'NOUN'],\n",
       " ['has', 'VERB'],\n",
       " ['yet', 'ADV'],\n",
       " ['.', 'PUNCT'],\n",
       " ['Saturday', 'NOUN']]"
      ]
     },
     "execution_count": 17,
     "metadata": {},
     "output_type": "execute_result"
    }
   ],
   "source": [
    "word_tag_list"
   ]
  },
  {
   "cell_type": "code",
   "execution_count": 25,
   "metadata": {},
   "outputs": [],
   "source": [
    "propn_freq, noun_freq = [], []\n",
    "\n",
    "for i, word_tag in enumerate(word_tag_list):\n",
    "    if word_tag[1] == \"PUNCT\" and i + 1 < len(word_tag_list):\n",
    "        next_tag = word_tag_list[i + 1][1]\n",
    "        if next_tag == \"NOUN\": noun_freq.append(word_tag_list[i + 1])\n",
    "        elif next_tag == \"PROPN\": propn_freq.append(word_tag_list[i + 1])"
   ]
  },
  {
   "cell_type": "code",
   "execution_count": 26,
   "metadata": {},
   "outputs": [
    {
     "data": {
      "text/plain": [
       "[['deal', 'NOUN'], ['Saturday', 'NOUN']]"
      ]
     },
     "execution_count": 26,
     "metadata": {},
     "output_type": "execute_result"
    }
   ],
   "source": [
    "noun_freq"
   ]
  },
  {
   "cell_type": "code",
   "execution_count": null,
   "metadata": {},
   "outputs": [],
   "source": []
  }
 ],
 "metadata": {
  "kernelspec": {
   "display_name": "Python 3",
   "language": "python",
   "name": "python3"
  },
  "language_info": {
   "codemirror_mode": {
    "name": "ipython",
    "version": 3
   },
   "file_extension": ".py",
   "mimetype": "text/x-python",
   "name": "python",
   "nbconvert_exporter": "python",
   "pygments_lexer": "ipython3",
   "version": "3.6.5"
  }
 },
 "nbformat": 4,
 "nbformat_minor": 2
}
